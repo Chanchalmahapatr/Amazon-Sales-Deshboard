{
  "nbformat": 4,
  "nbformat_minor": 5,
  "metadata": {
    "kernelspec": {
      "display_name": "Python 3",
      "language": "python",
      "name": "python3"
    },
    "language_info": {
      "codemirror_mode": {
        "name": "ipython",
        "version": 3
      },
      "file_extension": ".py",
      "mimetype": "text/x-python",
      "name": "python",
      "nbconvert_exporter": "python",
      "pygments_lexer": "ipython3",
      "version": "3.8.8"
    },
    "colab": {
      "provenance": [],
      "include_colab_link": true
    }
  },
  "cells": [
    {
      "cell_type": "markdown",
      "metadata": {
        "id": "view-in-github",
        "colab_type": "text"
      },
      "source": [
        "<a href=\"https://colab.research.google.com/github/Chanchalmahapatr/Amazon-Sales-Deshboard/blob/main/1_OpenCV_Basics.ipynb\" target=\"_parent\"><img src=\"https://colab.research.google.com/assets/colab-badge.svg\" alt=\"Open In Colab\"/></a>"
      ]
    },
    {
      "cell_type": "markdown",
      "metadata": {
        "id": "fc69fd6e"
      },
      "source": [
        "### Opening Image with OpenCV"
      ],
      "id": "fc69fd6e"
    },
    {
      "cell_type": "code",
      "source": [
        "! pip install opencv-python"
      ],
      "metadata": {
        "id": "WxsGKZ6UBGn5"
      },
      "id": "WxsGKZ6UBGn5",
      "execution_count": null,
      "outputs": []
    },
    {
      "cell_type": "code",
      "source": [
        "import cv2\n",
        "cv2.__version__"
      ],
      "metadata": {
        "id": "NDAxKgCKSTBl"
      },
      "id": "NDAxKgCKSTBl",
      "execution_count": null,
      "outputs": []
    },
    {
      "cell_type": "code",
      "source": [
        "import numpy as np\n",
        "# Optional code for Colab\n",
        "from google.colab.patches import cv2_imshow # Only for colab"
      ],
      "metadata": {
        "id": "EyuimmWECWRb"
      },
      "id": "EyuimmWECWRb",
      "execution_count": null,
      "outputs": []
    },
    {
      "cell_type": "code",
      "source": [
        "image = cv2.imread(\"lion.jpg\")"
      ],
      "metadata": {
        "id": "BhO-1IvnCZ74"
      },
      "id": "BhO-1IvnCZ74",
      "execution_count": null,
      "outputs": []
    },
    {
      "cell_type": "code",
      "source": [
        "image"
      ],
      "metadata": {
        "id": "E6aVPpkwCdRL"
      },
      "id": "E6aVPpkwCdRL",
      "execution_count": null,
      "outputs": []
    },
    {
      "cell_type": "code",
      "source": [
        "\n",
        "gray = cv2.cvtColor(image, cv2.COLOR_RGB2GRAY)\n",
        "\n",
        "cv2_imshow(gray)\n",
        "\n",
        "#cv2.waitKey(0)"
      ],
      "metadata": {
        "id": "n1hIhdxVCjOC"
      },
      "id": "n1hIhdxVCjOC",
      "execution_count": null,
      "outputs": []
    },
    {
      "cell_type": "code",
      "metadata": {
        "id": "mtvaG7sKyH-u"
      },
      "source": [
        "\n"
      ],
      "id": "mtvaG7sKyH-u",
      "execution_count": null,
      "outputs": []
    },
    {
      "cell_type": "code",
      "source": [
        "lane_image"
      ],
      "metadata": {
        "id": "R2xXPmj8zMg0"
      },
      "id": "R2xXPmj8zMg0",
      "execution_count": null,
      "outputs": []
    },
    {
      "cell_type": "markdown",
      "metadata": {
        "id": "3f361ca3"
      },
      "source": [
        "### Drawing on Images\n",
        "#### Part One"
      ],
      "id": "3f361ca3"
    },
    {
      "cell_type": "code",
      "metadata": {
        "id": "6a14b1fb"
      },
      "source": [
        "import cv2\n",
        "import numpy as np\n",
        "import matplotlib.pyplot as plt"
      ],
      "id": "6a14b1fb",
      "execution_count": null,
      "outputs": []
    },
    {
      "cell_type": "code",
      "metadata": {
        "id": "aaaf3885"
      },
      "source": [
        "blank_img = np.zeros(shape=(512,512,3), dtype=np.int16)"
      ],
      "id": "aaaf3885",
      "execution_count": null,
      "outputs": []
    },
    {
      "cell_type": "code",
      "metadata": {
        "id": "77850d01"
      },
      "source": [
        "blank_img"
      ],
      "id": "77850d01",
      "execution_count": null,
      "outputs": []
    },
    {
      "cell_type": "code",
      "metadata": {
        "id": "4f8a6234"
      },
      "source": [
        "plt.imshow(blank_img);"
      ],
      "id": "4f8a6234",
      "execution_count": null,
      "outputs": []
    },
    {
      "cell_type": "markdown",
      "metadata": {
        "id": "444f37f6"
      },
      "source": [
        "### Draw a Rectangle"
      ],
      "id": "444f37f6"
    },
    {
      "cell_type": "code",
      "metadata": {
        "id": "631d4d0a",
        "colab": {
          "base_uri": "https://localhost:8080/",
          "height": 435
        },
        "outputId": "4455b09b-e035-48dc-db3e-1facc964e920"
      },
      "source": [
        "cv2.rectangle(blank_img, pt1=(100,100), pt2=(485, 485), color=(100,100,200), thickness=8)\n",
        "plt.imshow(blank_img);"
      ],
      "id": "631d4d0a",
      "execution_count": null,
      "outputs": [
        {
          "output_type": "display_data",
          "data": {
            "text/plain": [
              "<Figure size 640x480 with 1 Axes>"
            ],
            "image/png": "[encoded data removed]"
          },
          "metadata": {}
        }
      ]
    },
    {
      "cell_type": "code",
      "metadata": {
        "id": "48a90a74"
      },
      "source": [
        "cv2.rectangle(blank_img, pt1=(200, 200), pt2=(300, 300), color=(0,0,255), thickness=5)\n",
        "plt.imshow(blank_img)"
      ],
      "id": "48a90a74",
      "execution_count": null,
      "outputs": []
    },
    {
      "cell_type": "markdown",
      "metadata": {
        "id": "af765464"
      },
      "source": [
        "### Draw a Circles"
      ],
      "id": "af765464"
    },
    {
      "cell_type": "code",
      "metadata": {
        "id": "94253185"
      },
      "source": [
        "cv2.circle(img=blank_img, center=(100,100), radius=60, color=(233, 0,0), thickness=4)\n",
        "plt.imshow(blank_img);"
      ],
      "id": "94253185",
      "execution_count": null,
      "outputs": []
    },
    {
      "cell_type": "code",
      "metadata": {
        "id": "4950ae62",
        "colab": {
          "base_uri": "https://localhost:8080/",
          "height": 435
        },
        "outputId": "9c595ed3-7f77-4151-dadb-631c9a82267c"
      },
      "source": [
        "cv2.circle(img=blank_img, center=(400,420), radius=60, color=(255, 0,0), thickness=-1)\n",
        "plt.imshow(blank_img);"
      ],
      "id": "4950ae62",
      "execution_count": null,
      "outputs": [
        {
          "output_type": "display_data",
          "data": {
            "text/plain": [
              "<Figure size 640x480 with 1 Axes>"
            ],
            "image/png": "[encoded data removed]"
          },
          "metadata": {}
        }
      ]
    },
    {
      "cell_type": "code",
      "metadata": {
        "id": "1b69da14",
        "colab": {
          "base_uri": "https://localhost:8080/",
          "height": 435
        },
        "outputId": "5f6dd0ca-660c-46a3-a201-214743f910a3"
      },
      "source": [
        "cv2.line(blank_img, pt1=(12, 12), pt2=(500, 500), color=(123, 233, 233), thickness=5)\n",
        "plt.imshow(blank_img);"
      ],
      "id": "1b69da14",
      "execution_count": null,
      "outputs": [
        {
          "output_type": "display_data",
          "data": {
            "text/plain": [
              "<Figure size 640x480 with 1 Axes>"
            ],
            "image/png": "[encoded data removed]"
          },
          "metadata": {}
        }
      ]
    },
    {
      "cell_type": "markdown",
      "metadata": {
        "id": "9713aae2"
      },
      "source": [
        "### Writing Text on Images"
      ],
      "id": "9713aae2"
    },
    {
      "cell_type": "code",
      "metadata": {
        "id": "508e2468",
        "colab": {
          "base_uri": "https://localhost:8080/",
          "height": 435
        },
        "outputId": "b63a52b1-2ea7-4474-f92d-9ae69eb8cd26"
      },
      "source": [
        "font = cv2.FONT_HERSHEY_SIMPLEX\n",
        "cv2.putText(blank_img, text='Alok', org=(10, 500), fontFace = font, fontScale=5, color=(255,255,255),\n",
        "           thickness=3, lineType=cv2.LINE_AA)\n",
        "## Ord is the bottom left corner\n",
        "plt.imshow(blank_img);"
      ],
      "id": "508e2468",
      "execution_count": null,
      "outputs": [
        {
          "output_type": "display_data",
          "data": {
            "text/plain": [
              "<Figure size 640x480 with 1 Axes>"
            ],
            "image/png": "[encoded data removed]"
          },
          "metadata": {}
        }
      ]
    },
    {
      "cell_type": "markdown",
      "metadata": {
        "id": "219a915a"
      },
      "source": [
        "### Draw a ploygon"
      ],
      "id": "219a915a"
    },
    {
      "cell_type": "code",
      "metadata": {
        "id": "ccb8ea4d"
      },
      "source": [
        "blank_img = np.zeros(shape=(512, 512, 3), dtype=np.int32)\n",
        "plt.imshow(blank_img);"
      ],
      "id": "ccb8ea4d",
      "execution_count": null,
      "outputs": []
    },
    {
      "cell_type": "code",
      "metadata": {
        "id": "feade88d"
      },
      "source": [
        "vertices = np.array([[100, 300], [200, 200], [400, 300], [200, 400]], dtype= np.int32 )\n"
      ],
      "id": "feade88d",
      "execution_count": null,
      "outputs": []
    },
    {
      "cell_type": "code",
      "metadata": {
        "id": "335fc93b"
      },
      "source": [
        "vertices"
      ],
      "id": "335fc93b",
      "execution_count": null,
      "outputs": []
    },
    {
      "cell_type": "code",
      "metadata": {
        "id": "2cdef21f"
      },
      "source": [
        "vertices.shape"
      ],
      "id": "2cdef21f",
      "execution_count": null,
      "outputs": []
    },
    {
      "cell_type": "code",
      "metadata": {
        "id": "8acf23b7"
      },
      "source": [
        "vertices.reshape(-1,1,2)"
      ],
      "id": "8acf23b7",
      "execution_count": null,
      "outputs": []
    },
    {
      "cell_type": "code",
      "metadata": {
        "id": "9e801281"
      },
      "source": [
        "vertices.shape"
      ],
      "id": "9e801281",
      "execution_count": null,
      "outputs": []
    },
    {
      "cell_type": "code",
      "metadata": {
        "id": "c3626433"
      },
      "source": [
        "cv2.polylines(blank_img, [vertices], isClosed=True, color=(255,0, 0), thickness=3)\n",
        "plt.imshow(blank_img);"
      ],
      "id": "c3626433",
      "execution_count": null,
      "outputs": []
    }
  ]
}